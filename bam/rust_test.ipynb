{
 "cells": [
  {
   "cell_type": "code",
   "execution_count": null,
   "metadata": {},
   "outputs": [],
   "source": [
    "import subprocess\n",
    "import os\n",
    "import tempfile\n"
   ]
  },
  {
   "cell_type": "code",
   "execution_count": null,
   "metadata": {},
   "outputs": [],
   "source": [
    "\n",
    "# 获取目录下的所有 BAM 文件\n",
    "bam_dir = \"/data/haocheng/data/bam/k562/\"\n",
    "bam_files = [f for f in os.listdir(bam_dir) if f.endswith('.bam')]\n",
    "bam_files = sorted(bam_files)  # 确保文件按字母顺序排序\n",
    "\n",
    "# 存储归一化后的结果\n",
    "result = \"\"\n",
    "\n",
    "first_bam = os.path.join(bam_dir, bam_files[0])\n",
    "second_bam = os.path.join(bam_dir, bam_files[1])\n",
    "\n",
    "print(f\"初次计算覆盖度，使用 BAM 文件: {first_bam} 和 {second_bam}\")\n",
    "\n",
    "\n",
    "temp_file1_path = \"/data/haocheng/data/bam/k562/work/coverage1.bed\"\n",
    "temp_file2_path = \"/data/haocheng/data/bam/k562/work/coverage2.bed\"\n",
    "\n",
    "print(f\"临时文件路径: {temp_file1_path}, {temp_file2_path}\")\n",
    "\n",
    "# 创建一个临时文件用于存储合并后的覆盖度结果\n",
    "with tempfile.NamedTemporaryFile(delete=False, mode='w', suffix='.bedgraph') as temp_merged_file:\n",
    "    temp_merged_file_path = temp_merged_file.name\n",
    "    # 合并覆盖度并直接写入临时文件\n",
    "    cmd = [\"bedtools\", \"unionbedg\", \"-i\", temp_file1_path, temp_file2_path]\n",
    "    with open(temp_merged_file_path, 'w') as output:\n",
    "        subprocess.run(cmd, stdout=output, text=True)\n",
    "\n",
    "# 使用 awk 处理合并后的覆盖度结果并写入最终文件\n",
    "final_output_file = \"/data/haocheng/data/bed/k562/text_coverage.bedgraph\"\n",
    "awk_command = f\"awk '{{print $1\\\"\\\\t\\\"$2\\\"\\\\t\\\"$3\\\"\\\\t\\\"($4 + $5)}}' {temp_merged_file_path} > {final_output_file}\"\n",
    "subprocess.run(awk_command, shell=True)\n",
    "\n"
   ]
  },
  {
   "cell_type": "code",
   "execution_count": null,
   "metadata": {},
   "outputs": [],
   "source": [
    "\n",
    "# 使用 bedtools unionbedg 进行信号叠加，并将空白地方设置为0\n",
    "unionbedg_command = f\"bedtools unionbedg -i /data/haocheng/data/bed/k562/text_coverage.bedgraph /data/haocheng/sorted_zero_coverage.bed -filler 0 > /data/haocheng/data/bed/k562/text_zero_coverage.bedgraph\"\n",
    "subprocess.run(unionbedg_command, shell=True, check=True)\n",
    "\n",
    "\n",
    "\n"
   ]
  },
  {
   "cell_type": "code",
   "execution_count": null,
   "metadata": {},
   "outputs": [],
   "source": [
    "output_file = f\"/data/haocheng/data/bed/k562/text_chr1_coverage.bedgraph\"\n",
    "# awk 命令\n",
    "awk_command = f\"awk '{{print $1\\\"\\\\t\\\"$2\\\"\\\\t\\\"$3\\\"\\\\t\\\"($4 + $5)}}' {'/data/haocheng/data/bed/k562/text_zero_coverage.bedgraph'} > {output_file}\"\n",
    "\n",
    "# 调用 awk 命令\n",
    "result =subprocess.run(awk_command, shell=True, check=True)\n"
   ]
  },
  {
   "cell_type": "code",
   "execution_count": 6,
   "metadata": {},
   "outputs": [
    {
     "name": "stdout",
     "output_type": "stream",
     "text": [
      "文件2 多余的 chr1 行: chr1\t248946437\t248956422\t0\n"
     ]
    }
   ],
   "source": [
    "def compare_bedgraph_files(file1_path, file2_path):\n",
    "    with open(file1_path, 'r') as file1, open(file2_path, 'r') as file2:\n",
    "        differences_found = False\n",
    "\n",
    "        # 逐行比较 file1 和 file2 的行\n",
    "        for line1 in file1:\n",
    "            line2 = file2.readline()  # 从 file2 中读取对应的行\n",
    "\n",
    "            if not line2:  # 如果 file2 已经结束但 file1 还没结束\n",
    "                differences_found = True\n",
    "                print(f\"文件1 有多余的行:\\n文件1: {line1.strip()}\\n文件2: 无对应行\")\n",
    "                break\n",
    "\n",
    "            if line1 != line2:\n",
    "                differences_found = True\n",
    "                print(f\"不同的行:\\n文件1: {line1.strip()}\\n文件2: {line2.strip()}\")\n",
    "\n",
    "        # 检查 file2 是否还有剩余行，并仅打印以 chr1 开头的多余行\n",
    "        for line2 in file2:\n",
    "            if line2.startswith(\"chr1\\t\"):  # 确保只打印 chr1 的行\n",
    "                differences_found = True\n",
    "                print(f\"文件2 多余的 chr1 行: {line2.strip()}\")\n",
    "\n",
    "        if not differences_found:\n",
    "            print(f\"{file1_path} 和 {file2_path} 的内容完全相同\")\n",
    "\n",
    "file2_path = \"/data/haocheng/data/bed/k562/text_chr1_coverage.bedgraph\"\n",
    "file1_path = \"/data/haocheng/data/bam/k562/work/output.bedgraph\"\n",
    "\n",
    "compare_bedgraph_files(file1_path, file2_path)\n"
   ]
  }
 ],
 "metadata": {
  "kernelspec": {
   "display_name": "bert_env",
   "language": "python",
   "name": "python3"
  },
  "language_info": {
   "codemirror_mode": {
    "name": "ipython",
    "version": 3
   },
   "file_extension": ".py",
   "mimetype": "text/x-python",
   "name": "python",
   "nbconvert_exporter": "python",
   "pygments_lexer": "ipython3",
   "version": "3.8.19"
  }
 },
 "nbformat": 4,
 "nbformat_minor": 2
}
