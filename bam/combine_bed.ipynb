{
 "cells": [
  {
   "cell_type": "code",
   "execution_count": 47,
   "metadata": {},
   "outputs": [],
   "source": [
    "import os\n",
    "import subprocess\n",
    "# 设置BAM文件目录\n",
    "bed_dir = \"/data/haocheng/data/bam/result/\"\n",
    "bed_work=\"/data/haocheng/data/bam/result/work\"\n",
    "bed_files = sorted([f for f in os.listdir(bed_dir) if f.endswith('.bed')])\n",
    "# 获取第一个和第二个BAM文件的路径\n",
    "bed_file1 = os.path.join(bed_dir, bed_files[0])\n",
    "bed_file2 = os.path.join(bed_dir, bed_files[1])\n",
    "# 定义排序后的输出文件路径，使用固定名称\n",
    "sorted_bed_file1 = os.path.join(bed_work, \"sorted_file1.bed\")\n",
    "sorted_bed_file2 = os.path.join(bed_work, \"sorted_file2.bed\")\n"
   ]
  },
  {
   "cell_type": "code",
   "execution_count": 42,
   "metadata": {},
   "outputs": [
    {
     "name": "stdout",
     "output_type": "stream",
     "text": [
      "Sorted files saved as /data/haocheng/data/bam/result/work/sorted_file1.bed and /data/haocheng/data/bam/result/work/sorted_file2.bed\n"
     ]
    }
   ],
   "source": [
    "# 使用bedtools sort命令对第一个BED文件排序，并将结果重定向到输出文件\n",
    "with open(sorted_bed_file1, 'w') as out1:\n",
    "    subprocess.run([\"bedtools\", \"sort\", \"-i\", bed_file1], stdout=out1)\n",
    "# 使用bedtools sort命令对第二个BED文件排序，并将结果重定向到输出文件\n",
    "with open(sorted_bed_file2, 'w') as out2:\n",
    "    subprocess.run([\"bedtools\", \"sort\", \"-i\", bed_file2], stdout=out2)\n",
    "print(f\"Sorted files saved as {sorted_bed_file1} and {sorted_bed_file2}\")\n"
   ]
  },
  {
   "cell_type": "code",
   "execution_count": 43,
   "metadata": {},
   "outputs": [
    {
     "name": "stdout",
     "output_type": "stream",
     "text": [
      "Unionbedg output saved as /data/haocheng/data/bam/result/work/unionbedg_output.bed\n"
     ]
    }
   ],
   "source": [
    "# 定义unionbedg的输出文件路径\n",
    "union_bed_file = os.path.join(bed_work, \"unionbedg_output.bed\")\n",
    "# 使用bedtools unionbedg命令对两个排序后的BED文件进行叠加，并将结果重定向到输出文件\n",
    "with open(union_bed_file, 'w') as out:\n",
    "    subprocess.run([\n",
    "        \"bedtools\", \"unionbedg\",\n",
    "        \"-i\", sorted_bed_file1, sorted_bed_file2,\n",
    "        # \"-header\",  # 如果需要保留头部信息可以添加这个选项\n",
    "    ], stdout=out)\n",
    "\n",
    "print(f\"Unionbedg output saved as {union_bed_file}\")\n"
   ]
  },
  {
   "cell_type": "code",
   "execution_count": 44,
   "metadata": {},
   "outputs": [
    {
     "name": "stdout",
     "output_type": "stream",
     "text": [
      "Final output saved as /data/haocheng/data/bam/result/work/final_output.bed\n"
     ]
    }
   ],
   "source": [
    "\n",
    "# 定义最终处理后的输出文件路径\n",
    "final_output_file = os.path.join(bed_work, \"final_output.bed\")\n",
    "# 使用awk进行操作，将第1-3列保留，并将第4列和第5列相加，输出到新的文件中\n",
    "awk_command = f\"awk '{{print $1\\\"\\\\t\\\"$2\\\"\\\\t\\\"$3\\\"\\\\t\\\"($4 + $5)}}' {union_bed_file} > {final_output_file}\"\n",
    "subprocess.run(awk_command, shell=True)\n",
    "print(f\"Final output saved as {final_output_file}\")"
   ]
  },
  {
   "cell_type": "code",
   "execution_count": 45,
   "metadata": {},
   "outputs": [],
   "source": [
    "bed_files = bed_files[2:]  "
   ]
  },
  {
   "cell_type": "code",
   "execution_count": 46,
   "metadata": {},
   "outputs": [
    {
     "name": "stdout",
     "output_type": "stream",
     "text": [
      "现在正在处理数据: /data/haocheng/data/bam/result/GM_12.bed\n",
      "Sorted files saved as /data/haocheng/data/bam/result/work/sorted_file1.bed and /data/haocheng/data/bam/result/work/sorted_file2.bed\n",
      "Unionbedg output saved as /data/haocheng/data/bam/result/work/unionbedg_output.bed\n",
      "Final output saved as /data/haocheng/data/bam/result/work/final_output.bed\n",
      "现在正在处理数据: /data/haocheng/data/bam/result/GM_35.bed\n",
      "Sorted files saved as /data/haocheng/data/bam/result/work/sorted_file1.bed and /data/haocheng/data/bam/result/work/sorted_file2.bed\n",
      "Unionbedg output saved as /data/haocheng/data/bam/result/work/unionbedg_output.bed\n",
      "Final output saved as /data/haocheng/data/bam/result/work/final_output.bed\n",
      "现在正在处理数据: /data/haocheng/data/bam/result/GMlast.bed\n",
      "Sorted files saved as /data/haocheng/data/bam/result/work/sorted_file1.bed and /data/haocheng/data/bam/result/work/sorted_file2.bed\n",
      "Unionbedg output saved as /data/haocheng/data/bam/result/work/unionbedg_output.bed\n",
      "Final output saved as /data/haocheng/data/bam/result/work/final_output.bed\n",
      "现在正在处理数据: /data/haocheng/data/bam/result/HG_1.bed\n",
      "Sorted files saved as /data/haocheng/data/bam/result/work/sorted_file1.bed and /data/haocheng/data/bam/result/work/sorted_file2.bed\n",
      "Unionbedg output saved as /data/haocheng/data/bam/result/work/unionbedg_output.bed\n",
      "Final output saved as /data/haocheng/data/bam/result/work/final_output.bed\n",
      "现在正在处理数据: /data/haocheng/data/bam/result/HG_2.bed\n",
      "Sorted files saved as /data/haocheng/data/bam/result/work/sorted_file1.bed and /data/haocheng/data/bam/result/work/sorted_file2.bed\n",
      "Unionbedg output saved as /data/haocheng/data/bam/result/work/unionbedg_output.bed\n",
      "Final output saved as /data/haocheng/data/bam/result/work/final_output.bed\n",
      "现在正在处理数据: /data/haocheng/data/bam/result/HG_3.bed\n",
      "Sorted files saved as /data/haocheng/data/bam/result/work/sorted_file1.bed and /data/haocheng/data/bam/result/work/sorted_file2.bed\n",
      "Unionbedg output saved as /data/haocheng/data/bam/result/work/unionbedg_output.bed\n",
      "Final output saved as /data/haocheng/data/bam/result/work/final_output.bed\n",
      "现在正在处理数据: /data/haocheng/data/bam/result/HepG2.bed\n",
      "Sorted files saved as /data/haocheng/data/bam/result/work/sorted_file1.bed and /data/haocheng/data/bam/result/work/sorted_file2.bed\n",
      "Unionbedg output saved as /data/haocheng/data/bam/result/work/unionbedg_output.bed\n",
      "Final output saved as /data/haocheng/data/bam/result/work/final_output.bed\n",
      "现在正在处理数据: /data/haocheng/data/bam/result/Others.bed\n",
      "Sorted files saved as /data/haocheng/data/bam/result/work/sorted_file1.bed and /data/haocheng/data/bam/result/work/sorted_file2.bed\n",
      "Unionbedg output saved as /data/haocheng/data/bam/result/work/unionbedg_output.bed\n",
      "Final output saved as /data/haocheng/data/bam/result/work/final_output.bed\n",
      "现在正在处理数据: /data/haocheng/data/bam/result/k562.bed\n",
      "Sorted files saved as /data/haocheng/data/bam/result/work/sorted_file1.bed and /data/haocheng/data/bam/result/work/sorted_file2.bed\n",
      "Unionbedg output saved as /data/haocheng/data/bam/result/work/unionbedg_output.bed\n",
      "Final output saved as /data/haocheng/data/bam/result/work/final_output.bed\n"
     ]
    }
   ],
   "source": [
    "while bed_files:\n",
    "    next_bed = os.path.join(bed_dir, bed_files[0])  # 获取下一个 BAM 文件的路径\n",
    "    print(f\"现在正在处理数据: {next_bed}\")\n",
    "    with open(sorted_bed_file1, 'w') as out1:\n",
    "     subprocess.run([\"bedtools\", \"sort\", \"-i\", final_output_file], stdout=out1)\n",
    "    with open(sorted_bed_file2, 'w') as out2:\n",
    "     subprocess.run([\"bedtools\", \"sort\", \"-i\", next_bed], stdout=out2)\n",
    "    print(f\"Sorted files saved as {sorted_bed_file1} and {sorted_bed_file2}\")\n",
    "    # 定义unionbedg的输出文件路径\n",
    "    union_bed_file = os.path.join(bed_work, \"unionbedg_output.bed\")\n",
    "    # 使用bedtools unionbedg命令对两个排序后的BED文件进行叠加，并将结果重定向到输出文件\n",
    "    with open(union_bed_file, 'w') as out:\n",
    "        subprocess.run([\n",
    "            \"bedtools\", \"unionbedg\",\n",
    "            \"-i\", sorted_bed_file1, sorted_bed_file2,\n",
    "            # \"-header\",  # 如果需要保留头部信息可以添加这个选项\n",
    "        ], stdout=out)\n",
    "    print(f\"Unionbedg output saved as {union_bed_file}\")\n",
    "    # 定义最终处理后的输出文件路径\n",
    "    final_output_file = os.path.join(bed_work, \"final_output.bed\")\n",
    "    # 使用awk进行操作，将第1-3列保留，并将第4列和第5列相加，输出到新的文件中\n",
    "    awk_command = f\"awk '{{print $1\\\"\\\\t\\\"$2\\\"\\\\t\\\"$3\\\"\\\\t\\\"($4 + $5)}}' {union_bed_file} > {final_output_file}\"\n",
    "    subprocess.run(awk_command, shell=True)\n",
    "    print(f\"Final output saved as {final_output_file}\")\n",
    "    bed_files = bed_files[1:]  # 删除第一个元素"
   ]
  },
  {
   "cell_type": "code",
   "execution_count": 48,
   "metadata": {},
   "outputs": [],
   "source": [
    "#0-10000 为 1000 一个区间，10000-80000 为 10000 一个区间，80000-150000 为一个区间\n",
    "import numpy as np\n",
    "import matplotlib.pyplot as plt\n",
    "\n",
    "# 设置BED文件路径\n",
    "bed_file = \"/data/haocheng/data/bam/result/work/final_output.bed\"\n",
    "\n",
    "# 读取第四列数据\n",
    "data = []\n",
    "with open(bed_file, 'r') as file:\n",
    "    for line in file:\n",
    "        fields = line.strip().split()\n",
    "        if len(fields) >= 4:\n",
    "            data.append(float(fields[3]))\n",
    "\n",
    "# 转换为NumPy数组\n",
    "data = np.array(data)\n"
   ]
  },
  {
   "cell_type": "code",
   "execution_count": 54,
   "metadata": {},
   "outputs": [],
   "source": [
    "\n",
    "# 设置区间边界\n",
    "#bins = np.concatenate([np.arange(0, 10000, 1000), np.arange(10000, 80000, 10000), [80000, 150000]])\n",
    "bins=1000\n",
    "# 使用np.histogram统计每个区间的频率\n",
    "hist, bin_edges = np.histogram(data, bins=bins)\n"
   ]
  },
  {
   "cell_type": "code",
   "execution_count": 55,
   "metadata": {},
   "outputs": [
    {
     "data": {
      "image/png": "[encoded data removed]",
      "text/plain": [
       "<Figure size 2500x700 with 1 Axes>"
      ]
     },
     "metadata": {},
     "output_type": "display_data"
    }
   ],
   "source": [
    "# 绘制条形图\n",
    "plt.figure(figsize=(25, 7))  # 增加图形的大小\n",
    "plt.bar(bin_edges[:-1], hist, width=np.diff(bin_edges), edgecolor='black', align='edge')\n",
    "plt.title('Distribution of Column 4 in final_output.bed (Custom Binned)')\n",
    "plt.xlabel('Value Range')\n",
    "plt.ylabel('Frequency')\n",
    "# 设置 x 轴刻度，只标记每个区间的开头和结尾\n",
    "x_ticks = np.concatenate([np.arange(0, 10001, 1000), np.arange(10000, 80001, 10000), [150000]])\n",
    "x_labels = [str(int(b)) for b in x_ticks]\n",
    "\n",
    "plt.xticks(x_ticks, x_labels, rotation=45)\n",
    "plt.xlim(0, 150000)\n",
    "plt.show()"
   ]
  },
  {
   "cell_type": "code",
   "execution_count": 59,
   "metadata": {},
   "outputs": [],
   "source": [
    "import pandas as pd\n",
    "\n",
    "# 读取 BED 文件\n",
    "bed_file = \"/data/haocheng/data/bam/result/all_no_chrEBV.bed\"\n",
    "bed_df = pd.read_csv(bed_file, sep='\\t', header=None)\n",
    "\n",
    "# 第四列为 bed_df[3]\n",
    "values = bed_df[3]\n",
    "\n",
    "# 归一化到 0-10 的范围\n",
    "max_val = values.max()\n",
    "bed_df[3] = (values) / (max_val ) * 100\n",
    "\n",
    "# 保存为新文件\n",
    "normalized_bed_file = \"/data/haocheng/data/bam/result/all_no_chrEBV_normalized100.bed\"\n",
    "bed_df.to_csv(normalized_bed_file, sep='\\t', header=False, index=False)\n"
   ]
  },
  {
   "cell_type": "code",
   "execution_count": 58,
   "metadata": {},
   "outputs": [
    {
     "name": "stdout",
     "output_type": "stream",
     "text": [
      "368758\n"
     ]
    }
   ],
   "source": [
    "print(max_val)"
   ]
  }
 ],
 "metadata": {
  "kernelspec": {
   "display_name": "bert_env",
   "language": "python",
   "name": "python3"
  },
  "language_info": {
   "codemirror_mode": {
    "name": "ipython",
    "version": 3
   },
   "file_extension": ".py",
   "mimetype": "text/x-python",
   "name": "python",
   "nbconvert_exporter": "python",
   "pygments_lexer": "ipython3",
   "version": "3.8.19"
  }
 },
 "nbformat": 4,
 "nbformat_minor": 2
}
