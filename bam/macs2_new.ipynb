{
 "cells": [
  {
   "cell_type": "code",
   "execution_count": 8,
   "metadata": {},
   "outputs": [],
   "source": [
    "import os\n",
    "import subprocess\n",
    "# 设置BAM文件目录\n",
    "bam_dir = \"/data/haocheng/data/bam/GM/\"\n",
    "bam_files = sorted([f for f in os.listdir(bam_dir) if f.endswith('.bam')])\n",
    "\n",
    "\n",
    "# 获取第一个和第二个BAM文件的路径\n",
    "bam_file1 = os.path.join(bam_dir, bam_files[0])\n",
    "bam_file2 = os.path.join(bam_dir, bam_files[1])\n",
    "\n",
    "sample1_peak_file = f\"{bam_dir}/sample1_peaks.narrowPeak\"\n",
    "sample2_peak_file = f\"{bam_dir}/sample2_peaks.narrowPeak\"\n",
    "sample1_signal_file = f\"{bam_dir}/sample1_signal.bed\"\n",
    "sample2_signal_file = f\"{bam_dir}/sample2_signal.bed\"\n",
    "combined_signal_file = f\"{bam_dir}/combined_signals.bed\"\n",
    "output_file = f\"{bam_dir}/updated_combined_signals.bed\"\n"
   ]
  },
  {
   "cell_type": "code",
   "execution_count": 10,
   "metadata": {},
   "outputs": [
    {
     "name": "stdout",
     "output_type": "stream",
     "text": [
      "Index file for ENCFF185MTG.bam not found. Creating index...\n"
     ]
    },
    {
     "name": "stderr",
     "output_type": "stream",
     "text": [
      "[W::bam_hdr_read] EOF marker is absent. The input is probably truncated\n",
      "[E::bgzf_uncompress] Inflate operation failed: 1\n",
      "[E::bgzf_read] Read block operation failed with error 1 after 0 of 4 bytes\n",
      "samtools index: failed to create index for \"/data/haocheng/data/bam/GM/ENCFF185MTG.bam\"\n"
     ]
    },
    {
     "ename": "CalledProcessError",
     "evalue": "Command 'samtools index /data/haocheng/data/bam/GM/ENCFF185MTG.bam' returned non-zero exit status 1.",
     "output_type": "error",
     "traceback": [
      "\u001b[0;31m---------------------------------------------------------------------------\u001b[0m",
      "\u001b[0;31mCalledProcessError\u001b[0m                        Traceback (most recent call last)",
      "Cell \u001b[0;32mIn[10], line 10\u001b[0m\n\u001b[1;32m      8\u001b[0m     \u001b[38;5;28mprint\u001b[39m(\u001b[38;5;124mf\u001b[39m\u001b[38;5;124m\"\u001b[39m\u001b[38;5;124mIndex file for \u001b[39m\u001b[38;5;132;01m{\u001b[39;00mbam_file\u001b[38;5;132;01m}\u001b[39;00m\u001b[38;5;124m not found. Creating index...\u001b[39m\u001b[38;5;124m\"\u001b[39m)\n\u001b[1;32m      9\u001b[0m     \u001b[38;5;66;03m# 使用 samtools 创建索引\u001b[39;00m\n\u001b[0;32m---> 10\u001b[0m     \u001b[43msubprocess\u001b[49m\u001b[38;5;241;43m.\u001b[39;49m\u001b[43mrun\u001b[49m\u001b[43m(\u001b[49m\u001b[38;5;124;43mf\u001b[39;49m\u001b[38;5;124;43m\"\u001b[39;49m\u001b[38;5;124;43msamtools index \u001b[39;49m\u001b[38;5;132;43;01m{\u001b[39;49;00m\u001b[43mbam_file_path\u001b[49m\u001b[38;5;132;43;01m}\u001b[39;49;00m\u001b[38;5;124;43m\"\u001b[39;49m\u001b[43m,\u001b[49m\u001b[43m \u001b[49m\u001b[43mshell\u001b[49m\u001b[38;5;241;43m=\u001b[39;49m\u001b[38;5;28;43;01mTrue\u001b[39;49;00m\u001b[43m,\u001b[49m\u001b[43m \u001b[49m\u001b[43mcheck\u001b[49m\u001b[38;5;241;43m=\u001b[39;49m\u001b[38;5;28;43;01mTrue\u001b[39;49;00m\u001b[43m)\u001b[49m\n\u001b[1;32m     11\u001b[0m     \u001b[38;5;28mprint\u001b[39m(\u001b[38;5;124mf\u001b[39m\u001b[38;5;124m\"\u001b[39m\u001b[38;5;124mIndex file created for \u001b[39m\u001b[38;5;132;01m{\u001b[39;00mbam_file\u001b[38;5;132;01m}\u001b[39;00m\u001b[38;5;124m.\u001b[39m\u001b[38;5;124m\"\u001b[39m)\n\u001b[1;32m     12\u001b[0m \u001b[38;5;28;01melse\u001b[39;00m:\n",
      "File \u001b[0;32m~/miniconda3/envs/bert_env/lib/python3.8/subprocess.py:516\u001b[0m, in \u001b[0;36mrun\u001b[0;34m(input, capture_output, timeout, check, *popenargs, **kwargs)\u001b[0m\n\u001b[1;32m    514\u001b[0m     retcode \u001b[38;5;241m=\u001b[39m process\u001b[38;5;241m.\u001b[39mpoll()\n\u001b[1;32m    515\u001b[0m     \u001b[38;5;28;01mif\u001b[39;00m check \u001b[38;5;129;01mand\u001b[39;00m retcode:\n\u001b[0;32m--> 516\u001b[0m         \u001b[38;5;28;01mraise\u001b[39;00m CalledProcessError(retcode, process\u001b[38;5;241m.\u001b[39margs,\n\u001b[1;32m    517\u001b[0m                                  output\u001b[38;5;241m=\u001b[39mstdout, stderr\u001b[38;5;241m=\u001b[39mstderr)\n\u001b[1;32m    518\u001b[0m \u001b[38;5;28;01mreturn\u001b[39;00m CompletedProcess(process\u001b[38;5;241m.\u001b[39margs, retcode, stdout, stderr)\n",
      "\u001b[0;31mCalledProcessError\u001b[0m: Command 'samtools index /data/haocheng/data/bam/GM/ENCFF185MTG.bam' returned non-zero exit status 1."
     ]
    }
   ],
   "source": [
    "# 检查每个 BAM 文件是否存在索引，如果没有，则添加索引\n",
    "for bam_file in bam_files:\n",
    "    bam_file_path = os.path.join(bam_dir, bam_file)\n",
    "    index_file_path = bam_file_path + \".bai\"  # 索引文件的路径\n",
    "\n",
    "    # 检查索引文件是否存在\n",
    "    if not os.path.exists(index_file_path):\n",
    "        print(f\"Index file for {bam_file} not found. Creating index...\")\n",
    "        # 使用 samtools 创建索引\n",
    "        subprocess.run(f\"samtools index {bam_file_path}\", shell=True, check=True)\n",
    "        print(f\"Index file created for {bam_file}.\")\n",
    "    else:\n",
    "        print(f\"Index file for {bam_file} already exists.\")"
   ]
  },
  {
   "cell_type": "code",
   "execution_count": null,
   "metadata": {},
   "outputs": [],
   "source": [
    "\n",
    "# 运行MACS2以获得峰值\n",
    "macs2_command1 = f\"macs2 callpeak -t {bam_file1} -f BAM -g 3.1e9 -n sample1 --outdir {bam_dir} --keep-dup all\"\n",
    "macs2_command2 = f\"macs2 callpeak -t {bam_file2} -f BAM -g 3.1e9 -n sample2 --outdir {bam_dir} --keep-dup all\"\n",
    "\n",
    "subprocess.run(macs2_command1, shell=True, check=True)\n",
    "subprocess.run(macs2_command2, shell=True, check=True)"
   ]
  },
  {
   "cell_type": "code",
   "execution_count": null,
   "metadata": {},
   "outputs": [],
   "source": [
    "# 提取必要列并保存到新的文件中\n",
    "awk_command1 = f\"awk '{{print $1\\\"\\\\t\\\"$2\\\"\\\\t\\\"$3\\\"\\\\t\\\"$10}}' {sample1_peak_file} > {sample1_signal_file}\"\n",
    "awk_command2 = f\"awk '{{print $1\\\"\\\\t\\\"$2\\\"\\\\t\\\"$3\\\"\\\\t\\\"$10}}' {sample2_peak_file} > {sample2_signal_file}\"\n",
    "\n",
    "# 运行 awk 命令\n",
    "subprocess.run(awk_command1, shell=True, check=True)\n",
    "subprocess.run(awk_command2, shell=True, check=True)"
   ]
  },
  {
   "cell_type": "code",
   "execution_count": null,
   "metadata": {},
   "outputs": [],
   "source": [
    "# 对输入文件进行排序\n",
    "sort_sample1_command = f\"bedtools sort -i {sample1_signal_file} > {sample1_signal_file}.sorted\"\n",
    "sort_sample2_command = f\"bedtools sort -i {sample2_signal_file} > {sample2_signal_file}.sorted\"\n",
    "# 运行排序命令\n",
    "subprocess.run(sort_sample1_command, shell=True, check=True)\n",
    "subprocess.run(sort_sample2_command, shell=True, check=True)"
   ]
  },
  {
   "cell_type": "code",
   "execution_count": null,
   "metadata": {},
   "outputs": [],
   "source": [
    "# 使用 bedtools unionbedg 进行信号叠加，并将空白地方设置为0\n",
    "unionbedg_command = f\"bedtools unionbedg -i {sample1_signal_file}.sorted {sample2_signal_file}.sorted -filler 0 > {combined_signal_file}\"\n",
    "subprocess.run(unionbedg_command, shell=True, check=True)\n",
    "\n",
    "print(f\"Combined signals written to {combined_signal_file}\")"
   ]
  },
  {
   "cell_type": "code",
   "execution_count": null,
   "metadata": {},
   "outputs": [],
   "source": [
    "output_file = f\"{bam_dir}/updated_combined_signals.bed\"\n",
    "# awk 命令\n",
    "awk_command = f\"awk '{{print $1\\\"\\\\t\\\"$2\\\"\\\\t\\\"$3\\\"\\\\t\\\"($4 + $5)}}' {combined_signal_file} > {sample1_signal_file}\"\n",
    "\n",
    "# 调用 awk 命令\n",
    "result =subprocess.run(awk_command, shell=True, check=True)\n",
    "\n",
    "print(f\"Processed data written to {sample1_signal_file}\")\n"
   ]
  },
  {
   "cell_type": "code",
   "execution_count": null,
   "metadata": {},
   "outputs": [],
   "source": [
    "\n",
    "# 从数组中移除已使用的 BAM 文件\n",
    "bam_files = bam_files[2:]  # 删除前两个元素\n",
    "# 删除中间文件，只保留最终结果文件\n"
   ]
  },
  {
   "cell_type": "code",
   "execution_count": null,
   "metadata": {},
   "outputs": [],
   "source": [
    "# 处理剩余的 BAM 文件\n",
    "while bam_files:\n",
    "    next_bam = os.path.join(bam_dir, bam_files[0])  # 获取下一个 BAM 文件的路径\n",
    "    print(f\"现在正在处理数据: {next_bam}\")\n",
    "    \n",
    "    sample2_peak_file = f\"{bam_dir}/sample2_peaks.narrowPeak\"\n",
    "    sample2_signal_file = f\"{bam_dir}/sample2_signal.bed\"\n",
    "    combined_signal_file = f\"{bam_dir}/combined_signals.bed\"\n",
    "    output_file = f\"{bam_dir}/updated_combined_signals.bed\"\n",
    "\n",
    "    print(f\"Running MACS2 on {next_bam}...\")\n",
    "    macs2_command2 = f\"macs2 callpeak -t {next_bam} -f BAM -g 3.1e9 -n sample2 --outdir {bam_dir} --keep-dup all\"\n",
    "    subprocess.run(macs2_command2, shell=True, check=True)\n",
    "\n",
    "    print(f\"Extracting necessary columns from {sample2_peak_file} to {sample2_signal_file}...\")\n",
    "    awk_command2 = f\"awk '{{print $1\\\"\\\\t\\\"$2\\\"\\\\t\\\"$3\\\"\\\\t\\\"$10}}' {sample2_peak_file} > {sample2_signal_file}\"\n",
    "    subprocess.run(awk_command2, shell=True, check=True)\n",
    "\n",
    "    print(f\"Combining signals from {sample1_signal_file} and {sample2_signal_file} into {combined_signal_file}...\")\n",
    "    unionbedg_command = f\"bedtools unionbedg -i {sample1_signal_file} {sample2_signal_file} -filler 0 > {combined_signal_file}\"\n",
    "    subprocess.run(unionbedg_command, shell=True, check=True)\n",
    "\n",
    "    print(f\"Combined signals written to {combined_signal_file}\")\n",
    "\n",
    "    print(f\"Processing combined signals in {combined_signal_file} to {sample1_signal_file}...\")\n",
    "    awk_command = f\"awk '{{print $1\\\"\\\\t\\\"$2\\\"\\\\t\\\"$3\\\"\\\\t\\\"($4 + $5)}}' {combined_signal_file} > {sample1_signal_file}\"\n",
    "    result = subprocess.run(awk_command, shell=True, check=True)\n",
    "\n",
    "    print(f\"Processed data written to {sample1_signal_file}\")\n",
    "\n",
    "    # 从数组中移除已使用的 BAM 文件\n",
    "    bam_files = bam_files[1:]  # 删除第一个元素\n"
   ]
  },
  {
   "cell_type": "code",
   "execution_count": null,
   "metadata": {},
   "outputs": [],
   "source": [
    "# 指定输出路径\n",
    "output_file = '/data/haocheng/data/DNA/zero_coverage.bed'\n",
    "\n",
    "# 定义染色体数据\n",
    "chromosomes = [\n",
    "    (\"chr1\", 1, 248956422, 0),\n",
    "    (\"chr2\", 1, 242193529, 0),\n",
    "    (\"chr3\", 1, 198295559, 0),\n",
    "    (\"chr4\", 1, 190214555, 0),\n",
    "    (\"chr5\", 1, 181538259, 0),\n",
    "    (\"chr6\", 1, 170805979, 0),\n",
    "    (\"chr7\", 1, 159345973, 0),\n",
    "    (\"chr8\", 1, 145138636, 0),\n",
    "    (\"chr9\", 1, 138394717, 0),\n",
    "    (\"chr10\", 1, 133797422, 0),\n",
    "    (\"chr11\", 1, 135086622, 0),\n",
    "    (\"chr12\", 1, 133275309, 0),\n",
    "    (\"chr13\", 1, 114364328, 0),\n",
    "    (\"chr14\", 1, 107043718, 0),\n",
    "    (\"chr15\", 1, 101991189, 0),\n",
    "    (\"chr16\", 1, 90338345, 0),\n",
    "    (\"chr17\", 1, 83257441, 0),\n",
    "    (\"chr18\", 1, 80373285, 0),\n",
    "    (\"chr19\", 1, 58617616, 0),\n",
    "    (\"chr20\", 1, 64444167, 0),\n",
    "    (\"chr21\", 1, 46709983, 0),\n",
    "    (\"chr22\", 1, 50818468, 0),\n",
    "    (\"chrX\", 1, 156040895, 0),\n",
    "    (\"chrY\", 1, 57227415, 0),\n",
    "]\n",
    "\n",
    "# 写入到文件\n",
    "with open(output_file, 'w') as f:\n",
    "    for chrom in chromosomes:\n",
    "        f.write(f\"{chrom[0]}\\t{chrom[1]}\\t{chrom[2]}\\t{chrom[3]}\\n\")\n",
    "\n",
    "print(f\"BED 文件已生成：{output_file}\")"
   ]
  },
  {
   "cell_type": "code",
   "execution_count": null,
   "metadata": {},
   "outputs": [],
   "source": [
    "# 使用 bedtools unionbedg 进行信号叠加，并将空白地方设置为0\n",
    "unionbedg_command = f\"bedtools unionbedg -i /data/haocheng/data/bam/GM12878/sample1_signal.bed /data/haocheng/sorted_zero_coverage.bed -filler 0 > /data/haocheng/data/bam/GM12878/GM12878_combined.bed\"\n",
    "subprocess.run(unionbedg_command, shell=True, check=True)\n",
    "\n",
    "print(\"Combined signals written to /data/haocheng/k562_combined.bed\")"
   ]
  },
  {
   "cell_type": "code",
   "execution_count": null,
   "metadata": {},
   "outputs": [],
   "source": [
    "output_file = f\"/data/haocheng/data/bam/GM12878/GM12878.bed\"\n",
    "# awk 命令\n",
    "awk_command = f\"awk '{{print $1\\\"\\\\t\\\"$2\\\"\\\\t\\\"$3\\\"\\\\t\\\"($4 + $5)}}' {'/data/haocheng/data/bam/GM12878/GM12878_combined.bed'} > {output_file}\"\n",
    "\n",
    "# 调用 awk 命令\n",
    "result =subprocess.run(awk_command, shell=True, check=True)\n",
    "\n",
    "print(f\"Processed data written to {sample1_signal_file}\")"
   ]
  },
  {
   "cell_type": "code",
   "execution_count": null,
   "metadata": {},
   "outputs": [],
   "source": [
    "import pyBigWig\n",
    "\n",
    "def calculate_max_min(bigwig_file):\n",
    "    # 打开BigWig文件\n",
    "    bw = pyBigWig.open(bigwig_file)\n",
    "\n",
    "    # 初始化最大值和最小值\n",
    "    max_value = float('-inf')\n",
    "    min_value = float('inf')\n",
    "\n",
    "    # 获取所有染色体及其长度\n",
    "    chroms = bw.chroms()\n",
    "\n",
    "    # 遍历所有染色体\n",
    "    for chrom in chroms:\n",
    "        # 获取染色体上的所有值\n",
    "        values = bw.values(chrom, 0, chroms[chrom])\n",
    "\n",
    "        # 移除 NaN 值\n",
    "        values = [v for v in values if not isinstance(v, float) or not (v != v)]\n",
    "\n",
    "        # 检查是否有有效值\n",
    "        if len(values) > 0:\n",
    "            # 更新最大值和最小值\n",
    "            chrom_max = max(values)\n",
    "            chrom_min = min(values)\n",
    "\n",
    "            if chrom_max > max_value:\n",
    "                max_value = chrom_max\n",
    "            if chrom_min < min_value:\n",
    "                min_value = chrom_min\n",
    "\n",
    "    # 关闭BigWig文件\n",
    "    bw.close()\n",
    "\n",
    "    return max_value, min_value\n",
    "\n",
    "bigwig_file = \"/data/haocheng/k562.bigWig\"\n",
    "max_value, min_value = calculate_max_min(bigwig_file)\n",
    "print(f\"Max value: {max_value}\")\n",
    "print(f\"Min value: {min_value}\")"
   ]
  }
 ],
 "metadata": {
  "kernelspec": {
   "display_name": "bert_env",
   "language": "python",
   "name": "python3"
  },
  "language_info": {
   "codemirror_mode": {
    "name": "ipython",
    "version": 3
   },
   "file_extension": ".py",
   "mimetype": "text/x-python",
   "name": "python",
   "nbconvert_exporter": "python",
   "pygments_lexer": "ipython3",
   "version": "3.8.19"
  }
 },
 "nbformat": 4,
 "nbformat_minor": 2
}
