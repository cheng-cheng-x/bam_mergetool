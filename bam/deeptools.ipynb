{
 "cells": [
  {
   "cell_type": "code",
   "execution_count": 1,
   "metadata": {},
   "outputs": [],
   "source": [
    "import subprocess\n",
    "import pysam\n",
    "import shutil\n",
    "import os\n",
    "\n",
    "# 设置BAM文件目录\n",
    "bam_dir = \"/data/haocheng/data/bam/GM/\"\n",
    "bam_files = sorted([f for f in os.listdir(bam_dir) if f.endswith('.bam')])\n",
    "\n",
    "# 获取第一个和第二个BAM文件的路径\n",
    "bam_file1 = os.path.join(bam_dir, bam_files[0])\n",
    "bam_file2 = os.path.join(bam_dir, bam_files[1])\n",
    "\n",
    "# 定义输出BigWig文件的路径\n",
    "bw_file1 = bam_file1.replace('.bam', '.bw')\n",
    "bw_file2 = bam_file2.replace('.bam', '.bw')\n",
    "merged_bw_file = os.path.join(bam_dir, 'merged_output.bw')\n",
    "temp_file = '/data/haocheng/data/bam/GM/temp.bw'\n",
    "temp_dir = \"/data/haocheng/data/bam/GM/temp/\"\n",
    "os.makedirs(temp_dir, exist_ok=True)\n",
    "\n",
    "def get_chromosome_lengths(bam_file):\n",
    "    samfile = pysam.AlignmentFile(bam_file, \"rb\")\n",
    "    chrom_lengths = {chrom: samfile.get_reference_length(chrom) for chrom in samfile.references if chrom.startswith('chr') and chrom != 'chrM'}\n",
    "    samfile.close()\n",
    "    return chrom_lengths\n",
    "\n",
    "def convert_bam_to_bw(bam_file, bw_file):\n",
    "    chrom_lengths = get_chromosome_lengths(bam_file)\n",
    "    temp_bw_files = []\n",
    "\n",
    "    regions = [f\"{chrom}:1:{length}\" for chrom, length in chrom_lengths.items() if chrom in [f\"chr{i}\" for i in range(1, 23)] + [\"chrX\", \"chrY\"]]\n",
    "    for region in regions:\n",
    "        temp_bw_file = os.path.join(temp_dir, f\"{os.path.basename(bam_file).replace('.bam', '')}_{region.replace(':', '-')}.bw\")\n",
    "        temp_bw_files.append(temp_bw_file)\n",
    "        command = [\n",
    "            \"bamCoverage\",\n",
    "            \"-b\", bam_file,\n",
    "            \"-o\", temp_bw_file,\n",
    "            \"--binSize\", \"1\",\n",
    "            \"--region\", region,\n",
    "            \"--outFileFormat\", \"bigwig\" \n",
    "        ]\n",
    "        print(f\"正在转换区域: {region}...\")\n",
    "        subprocess.run(command, check=True)\n",
    "        print(f\"{region} 转换完成。\")\n",
    "    \n",
    "    # 合并所有小的BigWig文件为一个大文件\n",
    "    merge_command = [\"wiggletools\", \"write\", bw_file, \"sum\"] + temp_bw_files\n",
    "    subprocess.run(merge_command, check=True)\n",
    "    print(f\"所有区域合并完成: {bw_file}\")\n"
   ]
  },
  {
   "cell_type": "code",
   "execution_count": null,
   "metadata": {},
   "outputs": [],
   "source": [
    "import subprocess\n",
    "import os\n",
    "\n",
    "# 设置BAM文件目录\n",
    "bam_dir = \"/data/haocheng/data/bam/GM/\"\n",
    "bam_files = sorted([f for f in os.listdir(bam_dir) if f.endswith('.bam')])\n",
    "\n",
    "def index_bam(bam_file):\n",
    "    bai_file = bam_file + \".bai\"\n",
    "    if not os.path.exists(bai_file):\n",
    "        print(f\"Indexing {bam_file}...\")\n",
    "        subprocess.run([\"samtools\", \"index\", bam_file], check=True)\n",
    "        print(f\"Indexing complete: {bam_file}\")\n",
    "    else:\n",
    "        print(f\"Index already exists for {bam_file}\")\n",
    "\n",
    "# 遍历目录中的所有BAM文件，生成索引\n",
    "for bam_file in bam_files:\n",
    "    bam_file_path = os.path.join(bam_dir, bam_file)\n",
    "    index_bam(bam_file_path)\n"
   ]
  },
  {
   "cell_type": "code",
   "execution_count": 2,
   "metadata": {},
   "outputs": [
    {
     "name": "stdout",
     "output_type": "stream",
     "text": [
      "正在合并所有区域...\n"
     ]
    },
    {
     "name": "stderr",
     "output_type": "stream",
     "text": [
      "File /data/haocheng/data/bam/GM/ENCFF159TDB.bw already exists, please delete it if you want to overwrite it.\n"
     ]
    },
    {
     "ename": "CalledProcessError",
     "evalue": "Command '['wiggletools', 'write', '/data/haocheng/data/bam/GM/ENCFF159TDB.bw', 'sum', '/data/haocheng/data/bam/GM/temp/ENCFF123IWQ_chr1-1-248956422.bw', '/data/haocheng/data/bam/GM/temp/ENCFF123IWQ_chr2-1-242193529.bw', '/data/haocheng/data/bam/GM/temp/ENCFF123IWQ_chr3-1-198295559.bw', '/data/haocheng/data/bam/GM/temp/ENCFF123IWQ_chr4-1-190214555.bw', '/data/haocheng/data/bam/GM/temp/ENCFF123IWQ_chr5-1-181538259.bw', '/data/haocheng/data/bam/GM/temp/ENCFF123IWQ_chr6-1-170805979.bw', '/data/haocheng/data/bam/GM/temp/ENCFF123IWQ_chr7-1-159345973.bw', '/data/haocheng/data/bam/GM/temp/ENCFF123IWQ_chr8-1-145138636.bw', '/data/haocheng/data/bam/GM/temp/ENCFF123IWQ_chr9-1-138394717.bw', '/data/haocheng/data/bam/GM/temp/ENCFF123IWQ_chr10-1-133797422.bw', '/data/haocheng/data/bam/GM/temp/ENCFF123IWQ_chr11-1-135086622.bw', '/data/haocheng/data/bam/GM/temp/ENCFF123IWQ_chr12-1-133275309.bw', '/data/haocheng/data/bam/GM/temp/ENCFF123IWQ_chr13-1-114364328.bw', '/data/haocheng/data/bam/GM/temp/ENCFF123IWQ_chr14-1-107043718.bw', '/data/haocheng/data/bam/GM/temp/ENCFF123IWQ_chr15-1-101991189.bw', '/data/haocheng/data/bam/GM/temp/ENCFF123IWQ_chr16-1-90338345.bw', '/data/haocheng/data/bam/GM/temp/ENCFF123IWQ_chr17-1-83257441.bw', '/data/haocheng/data/bam/GM/temp/ENCFF123IWQ_chr18-1-80373285.bw', '/data/haocheng/data/bam/GM/temp/ENCFF123IWQ_chr19-1-58617616.bw', '/data/haocheng/data/bam/GM/temp/ENCFF123IWQ_chr20-1-64444167.bw', '/data/haocheng/data/bam/GM/temp/ENCFF123IWQ_chr21-1-46709983.bw', '/data/haocheng/data/bam/GM/temp/ENCFF123IWQ_chr22-1-50818468.bw', '/data/haocheng/data/bam/GM/temp/ENCFF123IWQ_chrX-1-156040895.bw', '/data/haocheng/data/bam/GM/temp/ENCFF123IWQ_chrY-1-57227415.bw', '/data/haocheng/data/bam/GM/temp/ENCFF159TDB_chr1-1-248956422.bw', '/data/haocheng/data/bam/GM/temp/ENCFF159TDB_chr2-1-242193529.bw', '/data/haocheng/data/bam/GM/temp/ENCFF159TDB_chr3-1-198295559.bw', '/data/haocheng/data/bam/GM/temp/ENCFF159TDB_chr4-1-190214555.bw', '/data/haocheng/data/bam/GM/temp/ENCFF159TDB_chr5-1-181538259.bw', '/data/haocheng/data/bam/GM/temp/ENCFF159TDB_chr6-1-170805979.bw', '/data/haocheng/data/bam/GM/temp/ENCFF159TDB_chr7-1-159345973.bw', '/data/haocheng/data/bam/GM/temp/ENCFF159TDB_chr8-1-145138636.bw', '/data/haocheng/data/bam/GM/temp/ENCFF159TDB_chr9-1-138394717.bw', '/data/haocheng/data/bam/GM/temp/ENCFF159TDB_chr10-1-133797422.bw', '/data/haocheng/data/bam/GM/temp/ENCFF159TDB_chr11-1-135086622.bw', '/data/haocheng/data/bam/GM/temp/ENCFF159TDB_chr12-1-133275309.bw', '/data/haocheng/data/bam/GM/temp/ENCFF159TDB_chr13-1-114364328.bw', '/data/haocheng/data/bam/GM/temp/ENCFF159TDB_chr14-1-107043718.bw', '/data/haocheng/data/bam/GM/temp/ENCFF159TDB_chr15-1-101991189.bw', '/data/haocheng/data/bam/GM/temp/ENCFF159TDB_chr16-1-90338345.bw', '/data/haocheng/data/bam/GM/temp/ENCFF159TDB_chr17-1-83257441.bw', '/data/haocheng/data/bam/GM/temp/ENCFF159TDB_chr18-1-80373285.bw', '/data/haocheng/data/bam/GM/temp/ENCFF159TDB_chr19-1-58617616.bw', '/data/haocheng/data/bam/GM/temp/ENCFF159TDB_chr20-1-64444167.bw', '/data/haocheng/data/bam/GM/temp/ENCFF159TDB_chr21-1-46709983.bw', '/data/haocheng/data/bam/GM/temp/ENCFF159TDB_chr22-1-50818468.bw', '/data/haocheng/data/bam/GM/temp/ENCFF159TDB_chrX-1-156040895.bw', '/data/haocheng/data/bam/GM/temp/ENCFF159TDB_chrY-1-57227415.bw']' returned non-zero exit status 1.",
     "output_type": "error",
     "traceback": [
      "\u001b[0;31m---------------------------------------------------------------------------\u001b[0m",
      "\u001b[0;31mCalledProcessError\u001b[0m                        Traceback (most recent call last)",
      "Cell \u001b[0;32mIn[2], line 7\u001b[0m\n\u001b[1;32m      5\u001b[0m merge_command \u001b[38;5;241m=\u001b[39m [\u001b[38;5;124m\"\u001b[39m\u001b[38;5;124mwiggletools\u001b[39m\u001b[38;5;124m\"\u001b[39m, \u001b[38;5;124m\"\u001b[39m\u001b[38;5;124mwrite\u001b[39m\u001b[38;5;124m\"\u001b[39m, bw_file2, \u001b[38;5;124m\"\u001b[39m\u001b[38;5;124msum\u001b[39m\u001b[38;5;124m\"\u001b[39m] \u001b[38;5;241m+\u001b[39m temp_bw_files\n\u001b[1;32m      6\u001b[0m \u001b[38;5;28mprint\u001b[39m(\u001b[38;5;124m\"\u001b[39m\u001b[38;5;124m正在合并所有区域...\u001b[39m\u001b[38;5;124m\"\u001b[39m)\n\u001b[0;32m----> 7\u001b[0m \u001b[43msubprocess\u001b[49m\u001b[38;5;241;43m.\u001b[39;49m\u001b[43mrun\u001b[49m\u001b[43m(\u001b[49m\u001b[43mmerge_command\u001b[49m\u001b[43m,\u001b[49m\u001b[43m \u001b[49m\u001b[43mcheck\u001b[49m\u001b[38;5;241;43m=\u001b[39;49m\u001b[38;5;28;43;01mTrue\u001b[39;49;00m\u001b[43m)\u001b[49m\n\u001b[1;32m      8\u001b[0m \u001b[38;5;28mprint\u001b[39m(\u001b[38;5;124mf\u001b[39m\u001b[38;5;124m\"\u001b[39m\u001b[38;5;124m所有区域合并完成: \u001b[39m\u001b[38;5;132;01m{\u001b[39;00mbw_file2\u001b[38;5;132;01m}\u001b[39;00m\u001b[38;5;124m\"\u001b[39m)\n",
      "File \u001b[0;32m~/miniconda3/envs/bert_env/lib/python3.8/subprocess.py:516\u001b[0m, in \u001b[0;36mrun\u001b[0;34m(input, capture_output, timeout, check, *popenargs, **kwargs)\u001b[0m\n\u001b[1;32m    514\u001b[0m     retcode \u001b[38;5;241m=\u001b[39m process\u001b[38;5;241m.\u001b[39mpoll()\n\u001b[1;32m    515\u001b[0m     \u001b[38;5;28;01mif\u001b[39;00m check \u001b[38;5;129;01mand\u001b[39;00m retcode:\n\u001b[0;32m--> 516\u001b[0m         \u001b[38;5;28;01mraise\u001b[39;00m CalledProcessError(retcode, process\u001b[38;5;241m.\u001b[39margs,\n\u001b[1;32m    517\u001b[0m                                  output\u001b[38;5;241m=\u001b[39mstdout, stderr\u001b[38;5;241m=\u001b[39mstderr)\n\u001b[1;32m    518\u001b[0m \u001b[38;5;28;01mreturn\u001b[39;00m CompletedProcess(process\u001b[38;5;241m.\u001b[39margs, retcode, stdout, stderr)\n",
      "\u001b[0;31mCalledProcessError\u001b[0m: Command '['wiggletools', 'write', '/data/haocheng/data/bam/GM/ENCFF159TDB.bw', 'sum', '/data/haocheng/data/bam/GM/temp/ENCFF123IWQ_chr1-1-248956422.bw', '/data/haocheng/data/bam/GM/temp/ENCFF123IWQ_chr2-1-242193529.bw', '/data/haocheng/data/bam/GM/temp/ENCFF123IWQ_chr3-1-198295559.bw', '/data/haocheng/data/bam/GM/temp/ENCFF123IWQ_chr4-1-190214555.bw', '/data/haocheng/data/bam/GM/temp/ENCFF123IWQ_chr5-1-181538259.bw', '/data/haocheng/data/bam/GM/temp/ENCFF123IWQ_chr6-1-170805979.bw', '/data/haocheng/data/bam/GM/temp/ENCFF123IWQ_chr7-1-159345973.bw', '/data/haocheng/data/bam/GM/temp/ENCFF123IWQ_chr8-1-145138636.bw', '/data/haocheng/data/bam/GM/temp/ENCFF123IWQ_chr9-1-138394717.bw', '/data/haocheng/data/bam/GM/temp/ENCFF123IWQ_chr10-1-133797422.bw', '/data/haocheng/data/bam/GM/temp/ENCFF123IWQ_chr11-1-135086622.bw', '/data/haocheng/data/bam/GM/temp/ENCFF123IWQ_chr12-1-133275309.bw', '/data/haocheng/data/bam/GM/temp/ENCFF123IWQ_chr13-1-114364328.bw', '/data/haocheng/data/bam/GM/temp/ENCFF123IWQ_chr14-1-107043718.bw', '/data/haocheng/data/bam/GM/temp/ENCFF123IWQ_chr15-1-101991189.bw', '/data/haocheng/data/bam/GM/temp/ENCFF123IWQ_chr16-1-90338345.bw', '/data/haocheng/data/bam/GM/temp/ENCFF123IWQ_chr17-1-83257441.bw', '/data/haocheng/data/bam/GM/temp/ENCFF123IWQ_chr18-1-80373285.bw', '/data/haocheng/data/bam/GM/temp/ENCFF123IWQ_chr19-1-58617616.bw', '/data/haocheng/data/bam/GM/temp/ENCFF123IWQ_chr20-1-64444167.bw', '/data/haocheng/data/bam/GM/temp/ENCFF123IWQ_chr21-1-46709983.bw', '/data/haocheng/data/bam/GM/temp/ENCFF123IWQ_chr22-1-50818468.bw', '/data/haocheng/data/bam/GM/temp/ENCFF123IWQ_chrX-1-156040895.bw', '/data/haocheng/data/bam/GM/temp/ENCFF123IWQ_chrY-1-57227415.bw', '/data/haocheng/data/bam/GM/temp/ENCFF159TDB_chr1-1-248956422.bw', '/data/haocheng/data/bam/GM/temp/ENCFF159TDB_chr2-1-242193529.bw', '/data/haocheng/data/bam/GM/temp/ENCFF159TDB_chr3-1-198295559.bw', '/data/haocheng/data/bam/GM/temp/ENCFF159TDB_chr4-1-190214555.bw', '/data/haocheng/data/bam/GM/temp/ENCFF159TDB_chr5-1-181538259.bw', '/data/haocheng/data/bam/GM/temp/ENCFF159TDB_chr6-1-170805979.bw', '/data/haocheng/data/bam/GM/temp/ENCFF159TDB_chr7-1-159345973.bw', '/data/haocheng/data/bam/GM/temp/ENCFF159TDB_chr8-1-145138636.bw', '/data/haocheng/data/bam/GM/temp/ENCFF159TDB_chr9-1-138394717.bw', '/data/haocheng/data/bam/GM/temp/ENCFF159TDB_chr10-1-133797422.bw', '/data/haocheng/data/bam/GM/temp/ENCFF159TDB_chr11-1-135086622.bw', '/data/haocheng/data/bam/GM/temp/ENCFF159TDB_chr12-1-133275309.bw', '/data/haocheng/data/bam/GM/temp/ENCFF159TDB_chr13-1-114364328.bw', '/data/haocheng/data/bam/GM/temp/ENCFF159TDB_chr14-1-107043718.bw', '/data/haocheng/data/bam/GM/temp/ENCFF159TDB_chr15-1-101991189.bw', '/data/haocheng/data/bam/GM/temp/ENCFF159TDB_chr16-1-90338345.bw', '/data/haocheng/data/bam/GM/temp/ENCFF159TDB_chr17-1-83257441.bw', '/data/haocheng/data/bam/GM/temp/ENCFF159TDB_chr18-1-80373285.bw', '/data/haocheng/data/bam/GM/temp/ENCFF159TDB_chr19-1-58617616.bw', '/data/haocheng/data/bam/GM/temp/ENCFF159TDB_chr20-1-64444167.bw', '/data/haocheng/data/bam/GM/temp/ENCFF159TDB_chr21-1-46709983.bw', '/data/haocheng/data/bam/GM/temp/ENCFF159TDB_chr22-1-50818468.bw', '/data/haocheng/data/bam/GM/temp/ENCFF159TDB_chrX-1-156040895.bw', '/data/haocheng/data/bam/GM/temp/ENCFF159TDB_chrY-1-57227415.bw']' returned non-zero exit status 1."
     ]
    }
   ],
   "source": [
    "# 获取所有临时 BigWig 文件的路径\n",
    "temp_bw_files = [os.path.join(temp_dir, f) for f in os.listdir(temp_dir) if f.endswith('.bw')]\n",
    "\n",
    "# 合并所有小的 BigWig 文件为一个大文件\n",
    "merge_command = [\"wiggletools\", \"write\", bw_file2, \"sum\"] + temp_bw_files\n",
    "print(\"正在合并所有区域...\")\n",
    "subprocess.run(merge_command, check=True)\n",
    "print(f\"所有区域合并完成: {bw_file2}\")"
   ]
  },
  {
   "cell_type": "code",
   "execution_count": null,
   "metadata": {},
   "outputs": [],
   "source": [
    "\n",
    "# 转换两个BAM文件\n",
    "print(f\"Converting {bam_file1} to {bw_file1}...\")\n",
    "convert_bam_to_bw(bam_file1, bw_file1)\n",
    "print(f\"Conversion complete: {bw_file1}\")\n",
    "\n",
    "print(f\"Converting {bam_file2} to {bw_file2}...\")\n",
    "convert_bam_to_bw(bam_file2, bw_file2)\n",
    "print(f\"Conversion complete: {bw_file2}\")\n"
   ]
  },
  {
   "cell_type": "code",
   "execution_count": 10,
   "metadata": {},
   "outputs": [
    {
     "name": "stdout",
     "output_type": "stream",
     "text": [
      "Merging /data/haocheng/data/bam/GM/ENCFF123IWQ.bw and /data/haocheng/data/bam/GM/ENCFF159TDB.bw into /data/haocheng/data/bam/GM/merged_output.bw...\n"
     ]
    },
    {
     "name": "stderr",
     "output_type": "stream",
     "text": [
      "/data/haocheng/data/bam/GM/ENCFF123IWQ.bw is not a big wig file\n"
     ]
    },
    {
     "ename": "CalledProcessError",
     "evalue": "Command '['bigWigMerge', '/data/haocheng/data/bam/GM/ENCFF123IWQ.bw', '/data/haocheng/data/bam/GM/ENCFF159TDB.bw', '/data/haocheng/data/bam/GM/merged_output.bw']' returned non-zero exit status 255.",
     "output_type": "error",
     "traceback": [
      "\u001b[0;31m---------------------------------------------------------------------------\u001b[0m",
      "\u001b[0;31mCalledProcessError\u001b[0m                        Traceback (most recent call last)",
      "Cell \u001b[0;32mIn[10], line 14\u001b[0m\n\u001b[1;32m     12\u001b[0m \u001b[38;5;66;03m# 叠加BigWig文件\u001b[39;00m\n\u001b[1;32m     13\u001b[0m \u001b[38;5;28mprint\u001b[39m(\u001b[38;5;124mf\u001b[39m\u001b[38;5;124m\"\u001b[39m\u001b[38;5;124mMerging \u001b[39m\u001b[38;5;132;01m{\u001b[39;00mbw_file1\u001b[38;5;132;01m}\u001b[39;00m\u001b[38;5;124m and \u001b[39m\u001b[38;5;132;01m{\u001b[39;00mbw_file2\u001b[38;5;132;01m}\u001b[39;00m\u001b[38;5;124m into \u001b[39m\u001b[38;5;132;01m{\u001b[39;00mmerged_bw_file\u001b[38;5;132;01m}\u001b[39;00m\u001b[38;5;124m...\u001b[39m\u001b[38;5;124m\"\u001b[39m)\n\u001b[0;32m---> 14\u001b[0m \u001b[43mmerge_bigwig_files\u001b[49m\u001b[43m(\u001b[49m\u001b[43mbw_file1\u001b[49m\u001b[43m,\u001b[49m\u001b[43m \u001b[49m\u001b[43mbw_file2\u001b[49m\u001b[43m,\u001b[49m\u001b[43m \u001b[49m\u001b[43mmerged_bw_file\u001b[49m\u001b[43m)\u001b[49m\n\u001b[1;32m     15\u001b[0m \u001b[38;5;28mprint\u001b[39m(\u001b[38;5;124mf\u001b[39m\u001b[38;5;124m\"\u001b[39m\u001b[38;5;124mMerged BigWig file saved as \u001b[39m\u001b[38;5;124m'\u001b[39m\u001b[38;5;132;01m{\u001b[39;00mmerged_bw_file\u001b[38;5;132;01m}\u001b[39;00m\u001b[38;5;124m'\u001b[39m\u001b[38;5;124m.\u001b[39m\u001b[38;5;124m\"\u001b[39m)\n",
      "Cell \u001b[0;32mIn[10], line 9\u001b[0m, in \u001b[0;36mmerge_bigwig_files\u001b[0;34m(bw_file1, bw_file2, merged_bw_file)\u001b[0m\n\u001b[1;32m      2\u001b[0m \u001b[38;5;28;01mdef\u001b[39;00m \u001b[38;5;21mmerge_bigwig_files\u001b[39m(bw_file1, bw_file2, merged_bw_file):\n\u001b[1;32m      3\u001b[0m     command \u001b[38;5;241m=\u001b[39m [\n\u001b[1;32m      4\u001b[0m         \u001b[38;5;124m'\u001b[39m\u001b[38;5;124mbigWigMerge\u001b[39m\u001b[38;5;124m'\u001b[39m,\n\u001b[1;32m      5\u001b[0m         bw_file1,\n\u001b[1;32m      6\u001b[0m         bw_file2,\n\u001b[1;32m      7\u001b[0m         merged_bw_file\n\u001b[1;32m      8\u001b[0m     ]\n\u001b[0;32m----> 9\u001b[0m     \u001b[43msubprocess\u001b[49m\u001b[38;5;241;43m.\u001b[39;49m\u001b[43mrun\u001b[49m\u001b[43m(\u001b[49m\u001b[43mcommand\u001b[49m\u001b[43m,\u001b[49m\u001b[43m \u001b[49m\u001b[43mcheck\u001b[49m\u001b[38;5;241;43m=\u001b[39;49m\u001b[38;5;28;43;01mTrue\u001b[39;49;00m\u001b[43m)\u001b[49m\n\u001b[1;32m     10\u001b[0m     shutil\u001b[38;5;241m.\u001b[39mcopy(merged_bw_file, temp_file)\n",
      "File \u001b[0;32m~/miniconda3/envs/bert_env/lib/python3.8/subprocess.py:516\u001b[0m, in \u001b[0;36mrun\u001b[0;34m(input, capture_output, timeout, check, *popenargs, **kwargs)\u001b[0m\n\u001b[1;32m    514\u001b[0m     retcode \u001b[38;5;241m=\u001b[39m process\u001b[38;5;241m.\u001b[39mpoll()\n\u001b[1;32m    515\u001b[0m     \u001b[38;5;28;01mif\u001b[39;00m check \u001b[38;5;129;01mand\u001b[39;00m retcode:\n\u001b[0;32m--> 516\u001b[0m         \u001b[38;5;28;01mraise\u001b[39;00m CalledProcessError(retcode, process\u001b[38;5;241m.\u001b[39margs,\n\u001b[1;32m    517\u001b[0m                                  output\u001b[38;5;241m=\u001b[39mstdout, stderr\u001b[38;5;241m=\u001b[39mstderr)\n\u001b[1;32m    518\u001b[0m \u001b[38;5;28;01mreturn\u001b[39;00m CompletedProcess(process\u001b[38;5;241m.\u001b[39margs, retcode, stdout, stderr)\n",
      "\u001b[0;31mCalledProcessError\u001b[0m: Command '['bigWigMerge', '/data/haocheng/data/bam/GM/ENCFF123IWQ.bw', '/data/haocheng/data/bam/GM/ENCFF159TDB.bw', '/data/haocheng/data/bam/GM/merged_output.bw']' returned non-zero exit status 255."
     ]
    }
   ],
   "source": [
    "# 使用bigwigMerge叠加BigWig文件\n",
    "def merge_bigwig_files(bw_file1, bw_file2, merged_bw_file):\n",
    "    command = [\n",
    "        'bigWigMerge',\n",
    "        bw_file1,\n",
    "        bw_file2,\n",
    "        merged_bw_file\n",
    "    ]\n",
    "    subprocess.run(command, check=True)\n",
    "    shutil.copy(merged_bw_file, temp_file)\n",
    "\n",
    "# 叠加BigWig文件\n",
    "print(f\"Merging {bw_file1} and {bw_file2} into {merged_bw_file}...\")\n",
    "merge_bigwig_files(bw_file1, bw_file2, merged_bw_file)\n",
    "print(f\"Merged BigWig file saved as '{merged_bw_file}'.\")\n"
   ]
  },
  {
   "cell_type": "code",
   "execution_count": null,
   "metadata": {},
   "outputs": [],
   "source": [
    "\n",
    "# 从数组中移除已使用的 BAM 文件\n",
    "bam_files = bam_files[2:]\n",
    "\n",
    "while bam_files:\n",
    "    next_bam = os.path.join(bam_dir, bam_files[0])\n",
    "    next_bw_file = next_bam.replace('.bam', '.bw')  # 新的 BigWig 文件名\n",
    "    print(f\"Converting {next_bam} to {next_bw_file}...\")\n",
    "    convert_bam_to_bw(next_bam, next_bw_file)\n",
    "    print(f\"Conversion complete: {next_bw_file}\")\n",
    "\n",
    "    print(f\"Merging {next_bw_file} with {temp_file} into {merged_bw_file}...\")\n",
    "    merge_bigwig_files(next_bw_file, temp_file, merged_bw_file)\n",
    "    print(f\"Merged BigWig file saved as '{merged_bw_file}'.\")\n",
    "\n",
    "    bam_files = bam_files[1:]  # 删除第一个元素\n"
   ]
  }
 ],
 "metadata": {
  "kernelspec": {
   "display_name": "bert_env",
   "language": "python",
   "name": "python3"
  },
  "language_info": {
   "codemirror_mode": {
    "name": "ipython",
    "version": 3
   },
   "file_extension": ".py",
   "mimetype": "text/x-python",
   "name": "python",
   "nbconvert_exporter": "python",
   "pygments_lexer": "ipython3",
   "version": "3.8.19"
  }
 },
 "nbformat": 4,
 "nbformat_minor": 2
}
